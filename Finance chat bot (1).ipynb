{
 "cells": [
  {
   "cell_type": "markdown",
   "id": "5a3a2e87",
   "metadata": {},
   "source": [
    "# Stock Advisor Chat Bot\n",
    "## Aidan Goodfellow"
   ]
  },
  {
   "cell_type": "code",
   "execution_count": 5,
   "id": "e2e65f66",
   "metadata": {},
   "outputs": [],
   "source": [
    "#import necessary packages and libraries\n",
    "from transformers import AutoModelForSequenceClassification, AutoTokenizer, pipeline\n",
    "import requests\n",
    "from datetime import datetime, timedelta\n",
    "import yfinance as yf\n",
    "import pandas as pd\n",
    "from datetime import datetime, timedelta\n",
    "from pandas import Timestamp\n",
    "\n",
    "\n"
   ]
  },
  {
   "cell_type": "code",
   "execution_count": 6,
   "id": "be0951aa",
   "metadata": {},
   "outputs": [],
   "source": [
    "\n",
    "def fetch_finnhub_news(api_key, ticker):\n",
    "    # Finnhub requires dates in YYYY-MM-DD format\n",
    "    end_date = datetime.now()\n",
    "    start_date = end_date - timedelta(days=30)  # Adjust based time range\n",
    "\n",
    "    url = f\"https://finnhub.io/api/v1/company-news?symbol={ticker}&from={start_date.strftime('%Y-%m-%d')}&to={end_date.strftime('%Y-%m-%d')}&token={api_key}\"\n",
    "\n",
    "    response = requests.get(url)\n",
    "    if response.status_code == 200:\n",
    "        news_items = response.json()\n",
    "        return news_items  # This returns a list of news articles\n",
    "    else:\n",
    "        print(\"Failed to fetch news\")\n",
    "        return []\n",
    "\n",
    "def analyze_finbert_sentiment(text):\n",
    "    finbert = pipeline(\"sentiment-analysis\", model=model, tokenizer=tokenizer)\n",
    "    results = finbert(text)\n",
    "    return results\n",
    "\n",
    "\n",
    "def create_sentiment_df(news_items):\n",
    "    sentiments = []\n",
    "    for item in news_items:\n",
    "        if 'headline' in item:\n",
    "            sentiment_result = analyze_finbert_sentiment(item['headline'])\n",
    "            # sentiment_result structure: [{'label': 'LABEL', 'score': SCORE}]\n",
    "            # Adjust according to your actual result format\n",
    "            if sentiment_result:\n",
    "                sentiment_label = sentiment_result[0]['label']\n",
    "                sentiment_score = sentiment_result[0]['score']\n",
    "                sentiment_date = datetime.fromtimestamp(item['datetime']).strftime('%Y-%m-%d')\n",
    "                sentiments.append({'date': sentiment_date, 'label': sentiment_label, 'score': sentiment_score})\n",
    "    \n",
    "    sentiment_df = pd.DataFrame(sentiments)\n",
    "    # Convert 'date' to datetime and aggregate scores by date\n",
    "    sentiment_df['date'] = pd.to_datetime(sentiment_df['date'])\n",
    "    return sentiment_df\n",
    "\n",
    "\n"
   ]
  },
  {
   "cell_type": "code",
   "execution_count": 7,
   "id": "cd6be994",
   "metadata": {},
   "outputs": [],
   "source": [
    "\n",
    "def fetch_stock_prices(ticker):\n",
    "    end_date = datetime.now()\n",
    "    start_date = end_date - timedelta(days=90)  # Fetching more days for SMA calculation\n",
    "    df = yf.download(ticker, start=start_date.strftime('%Y-%m-%d'), end=end_date.strftime('%Y-%m-%d'))\n",
    "    if df.empty:\n",
    "        raise ValueError(\"Failed to fetch stock prices\")\n",
    "    return df\n",
    "\n",
    "\n",
    "def calculate_sentiment_scores(sentiment_df, current_date):\n",
    "    # Convert strings to datetime for comparison\n",
    "    sentiment_df['date'] = pd.to_datetime(sentiment_df['date'])\n",
    "    current_date = pd.to_datetime(current_date)\n",
    "\n",
    "    # Define the short term and medium term periods\n",
    "    short_term_period = current_date - Timestamp.resolution * 7  # Last 7 days\n",
    "    medium_term_period = current_date - Timestamp.resolution * 30  # Last 30 days\n",
    "\n",
    "    # Filter the DataFrame for the respective periods\n",
    "    short_term_df = sentiment_df[(sentiment_df['date'] > short_term_period) & (sentiment_df['date'] <= current_date)]\n",
    "    medium_term_df = sentiment_df[(sentiment_df['date'] > medium_term_period) & (sentiment_df['date'] <= current_date)]\n",
    "\n",
    "    # Calculate average scores for short term and medium term\n",
    "    short_term_avg_score = short_term_df['score'].mean()\n",
    "    medium_term_avg_score = medium_term_df['score'].mean()\n",
    "\n",
    "    return short_term_avg_score, medium_term_avg_score\n",
    "\n",
    "\n",
    "def calculate_sma(prices_df, window=30):\n",
    "    return prices_df['Close'].rolling(window=window).mean()\n",
    "\n",
    "def trading_decision(prices_df, sentiment_df, current_date):\n",
    "    \n",
    "    # Convert string to pandas Timestamp for consistent handling\n",
    "    query_date = pd.to_datetime(current_date)\n",
    "\n",
    "    if query_date in prices_df.index:\n",
    "    # Date exists, proceed with analysis\n",
    "        current_price = prices_df.loc[query_date]['Close']\n",
    "    else:\n",
    "    # Date does not exist, find the closest previous date\n",
    "        current_date = prices_df.index[prices_df.index < query_date].max()\n",
    "        current_price = prices_df.loc[current_date]['Close']\n",
    "        \n",
    "    short_term_sentiment, medium_term_sentiment = calculate_sentiment_scores(sentiment_df, current_date)    \n",
    "\n",
    "    prices_df['30d_sma'] = calculate_sma(prices_df)\n",
    "    current_sentiment = sentiment_df[sentiment_df['date'] == current_date]\n",
    "    current_price = prices_df.loc[current_date]['Close']\n",
    "    current_sma = prices_df.loc[current_date]['30d_sma']\n",
    "    \n",
    "    sentiment_threshold = 0.5\n",
    "    if short_term_sentiment > sentiment_threshold and medium_term_sentiment > sentiment_threshold and current_price > current_sma:\n",
    "        return \"Buy\"\n",
    "    elif short_term_sentiment < -sentiment_threshold and medium_term_sentiment < -sentiment_threshold and current_price < current_sma:\n",
    "        return \"Sell\"\n",
    "    else:\n",
    "        return \"Hold\"\n",
    "\n",
    "\n"
   ]
  },
  {
   "cell_type": "code",
   "execution_count": 10,
   "id": "13622b21",
   "metadata": {},
   "outputs": [
    {
     "name": "stdout",
     "output_type": "stream",
     "text": [
      "UPDATE 1-Apple buys startup DarwinAI, adds staff to its AI division, Bloomberg reports\n",
      "Apple Buys Canadian AI Startup as It Races to Add Features\n",
      "Is Meta Stock A Buy After Earnings, AI-Powered Rally?\n",
      "Apple Reenters Our Buy Zone (Technical Analysis, Rating Upgrade)\n",
      "Apple Stock Has 31% Upside, According to This Wall Street Analyst\n"
     ]
    },
    {
     "name": "stderr",
     "output_type": "stream",
     "text": [
      "[*********************100%%**********************]  1 of 1 completed"
     ]
    },
    {
     "name": "stdout",
     "output_type": "stream",
     "text": [
      "Trading decision for 2024-03-14: Hold\n"
     ]
    },
    {
     "name": "stderr",
     "output_type": "stream",
     "text": [
      "\n"
     ]
    }
   ],
   "source": [
    "model_name = \"yiyanghkust/finbert-tone\"  #FinBERT model\n",
    "tokenizer = AutoTokenizer.from_pretrained(model_name)\n",
    "model = AutoModelForSequenceClassification.from_pretrained(model_name)\n",
    "\n",
    "# Example usage\n",
    "api_key = \"cnkfihhr01qiclq85a0gcnkfihhr01qiclq85a10\"\n",
    "ticker = \"AAPL\"  # Example stock ticker\n",
    "news_items = fetch_finnhub_news(api_key, ticker)\n",
    "for item in news_items[:5]:  # Display first 5 news items\n",
    "    print(item['headline'])\n",
    "\n",
    "sentiment_df = create_sentiment_df(news_items)\n",
    "\n",
    "# Sample usage:\n",
    "ticker = 'AAPL'\n",
    "try:\n",
    "    prices_df = fetch_stock_prices(ticker)\n",
    "    # Assume sentiment_df is already defined with 'date', 'short_term_sentiment', 'medium_term_sentiment'\n",
    "    current_date = datetime.now().strftime('%Y-%m-%d')  # Adjust as needed\n",
    "    prices_df.index = pd.to_datetime(prices_df.index)\n",
    "    sentiment_df['date'] = pd.to_datetime(sentiment_df['date'])\n",
    "    decision = trading_decision(prices_df, sentiment_df, current_date)\n",
    "    print(f\"Trading decision for {current_date}: {decision}\")\n",
    "except ValueError as e:\n",
    "    print(e)"
   ]
  },
  {
   "cell_type": "code",
   "execution_count": 11,
   "id": "459eb0d1",
   "metadata": {},
   "outputs": [
    {
     "name": "stdout",
     "output_type": "stream",
     "text": [
      "Welcome to the Stock Advice Chatbot!\n",
      "Enter a stock ticker for advice or 'exit' to quit: AAPL\n",
      "Fetching news and analyzing sentiment for AAPL...\n"
     ]
    },
    {
     "name": "stderr",
     "output_type": "stream",
     "text": [
      "[*********************100%%**********************]  1 of 1 completed\n"
     ]
    },
    {
     "name": "stdout",
     "output_type": "stream",
     "text": [
      "Fetching stock prices for AAPL...\n",
      "Making trading decision for AAPL...\n",
      "Trading decision for AAPL on 2024-03-14: Hold\n",
      "\n",
      "Enter a stock ticker for advice or 'exit' to quit: AMZN\n",
      "Fetching news and analyzing sentiment for AMZN...\n"
     ]
    },
    {
     "name": "stderr",
     "output_type": "stream",
     "text": [
      "[*********************100%%**********************]  1 of 1 completed\n"
     ]
    },
    {
     "name": "stdout",
     "output_type": "stream",
     "text": [
      "Fetching stock prices for AMZN...\n",
      "Making trading decision for AMZN...\n",
      "Trading decision for AMZN on 2024-03-14: Buy\n",
      "\n",
      "Enter a stock ticker for advice or 'exit' to quit: apple\n",
      "Fetching news and analyzing sentiment for APPLE...\n",
      "An error occurred: 'date'\n",
      "\n",
      "Enter a stock ticker for advice or 'exit' to quit: exit\n",
      "Thank you for using the Stock Advice Chatbot. Goodbye!\n"
     ]
    }
   ],
   "source": [
    "def main_chatbot_function():\n",
    "    print(\"Welcome to the Stock Advice Chatbot!\")\n",
    "    while True:\n",
    "        ticker = input(\"Enter a stock ticker for advice or 'exit' to quit: \").upper()\n",
    "        if ticker == 'EXIT':\n",
    "            print(\"Thank you for using the Stock Advice Chatbot. Goodbye!\")\n",
    "            break\n",
    "\n",
    "        try:\n",
    "            print(f\"Fetching news and analyzing sentiment for {ticker}...\")\n",
    "            news_items = fetch_finnhub_news(api_key, ticker)\n",
    "            sentiment_df = create_sentiment_df(news_items)\n",
    "\n",
    "            print(f\"Fetching stock prices for {ticker}...\")\n",
    "            prices_df = fetch_stock_prices(ticker)\n",
    "            prices_df.index = pd.to_datetime(prices_df.index)\n",
    "\n",
    "            print(f\"Making trading decision for {ticker}...\")\n",
    "            current_date = datetime.now().strftime('%Y-%m-%d')  # Use the last available date in your data\n",
    "            decision = trading_decision(prices_df, sentiment_df, current_date)\n",
    "            print(f\"Trading decision for {ticker} on {current_date}: {decision}\\n\")\n",
    "        except Exception as e:\n",
    "            print(f\"An error occurred: {e}\\n\")\n",
    "\n",
    "if __name__ == \"__main__\":\n",
    "    main_chatbot_function()\n"
   ]
  },
  {
   "cell_type": "code",
   "execution_count": null,
   "id": "c219dc36",
   "metadata": {},
   "outputs": [],
   "source": []
  }
 ],
 "metadata": {
  "kernelspec": {
   "display_name": "Python 3",
   "language": "python",
   "name": "python3"
  },
  "language_info": {
   "codemirror_mode": {
    "name": "ipython",
    "version": 3
   },
   "file_extension": ".py",
   "mimetype": "text/x-python",
   "name": "python",
   "nbconvert_exporter": "python",
   "pygments_lexer": "ipython3",
   "version": "3.8.8"
  }
 },
 "nbformat": 4,
 "nbformat_minor": 5
}
